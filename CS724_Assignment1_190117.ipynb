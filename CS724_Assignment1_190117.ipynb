{
  "nbformat": 4,
  "nbformat_minor": 0,
  "metadata": {
    "colab": {
      "name": "CS724-Assignment1-190117.ipynb",
      "provenance": [],
      "collapsed_sections": []
    },
    "kernelspec": {
      "name": "python3",
      "display_name": "Python 3"
    },
    "language_info": {
      "name": "python"
    }
  },
  "cells": [
    {
      "cell_type": "markdown",
      "source": [
        "# CS724 Assignment 1 (190117)"
      ],
      "metadata": {
        "id": "6THdgZrXgKWY"
      }
    },
    {
      "cell_type": "markdown",
      "source": [
        "# Question 1\n",
        "\n",
        "**1) $$ A = \\begin{bmatrix}\n",
        "    1 & 0\\\\ \n",
        "    0 & 1\n",
        "  \\end{bmatrix} $$**\n",
        "\n",
        "  $$ C(A) = R^2 $$ \n",
        "\n",
        "**2) $$ B = \\begin{bmatrix}\n",
        "    1 & 2\\\\ \n",
        "    2 & 4\n",
        "  \\end{bmatrix} $$**\n",
        "\n",
        "  $$ C(B) = R^1 $$ \n",
        "\n",
        "**3) $$ D = \\begin{bmatrix}\n",
        "    1 & 2 & 3\\\\ \n",
        "    0 & 0 & 4\n",
        "  \\end{bmatrix} $$**\n",
        "\n",
        "  $$ C(D) = R^2 $$ "
      ],
      "metadata": {
        "id": "4gpoKpHWgjQQ"
      }
    },
    {
      "cell_type": "markdown",
      "source": [
        "# Question 2\n",
        "\n",
        "Let the coordinate units be Km;\n",
        "\n",
        "User Position U: (100, 100, 100)\n",
        "\n",
        "Let's fix the 5 satellites at the following positions:\n",
        "\n",
        "S1: (100000, 100000, 100000)\n",
        "\n",
        "S2: (-200000, 300000, -500000)\n",
        "\n",
        "S3: (400000, 700000, -1000000)\n",
        "\n",
        "S4: (1000000, -200000, 1000000)\n",
        "\n",
        "S5: (10000000, -10000000, -10000000)\n"
      ],
      "metadata": {
        "id": "lrK8Hm5Ih73A"
      }
    },
    {
      "cell_type": "code",
      "execution_count": 1,
      "metadata": {
        "id": "9_Pf9RrX2_4e"
      },
      "outputs": [],
      "source": [
        "import numpy as np\n",
        "import random\n",
        "import matplotlib.pyplot as plt"
      ]
    },
    {
      "cell_type": "code",
      "source": [
        "# coordinate units: Km\n",
        "user = np.array([100, 100, 100])\n",
        "# speed unit: Km/s\n",
        "speed = 300000 \n",
        "\n",
        "s0 = np.array([100000, 100000, 100000])\n",
        "s1 = np.array([-200000, 300000, -500000])\n",
        "s2 = np.array([400000, 700000, -1000000])\n",
        "s3 = np.array([1000000, -200000, 1000000])\n",
        "s4 = np.array([10000000, -10000000, -10000000])\n",
        "\n",
        "s = np.array([s0, s1, s2, s3, s4])\n",
        "s"
      ],
      "metadata": {
        "colab": {
          "base_uri": "https://localhost:8080/",
          "height": 0
        },
        "id": "dfjKm3mBBEdm",
        "outputId": "5a35f1d1-c5de-4096-d4bc-fa003f0065ad"
      },
      "execution_count": 2,
      "outputs": [
        {
          "output_type": "execute_result",
          "data": {
            "text/plain": [
              "array([[   100000,    100000,    100000],\n",
              "       [  -200000,    300000,   -500000],\n",
              "       [   400000,    700000,  -1000000],\n",
              "       [  1000000,   -200000,   1000000],\n",
              "       [ 10000000, -10000000, -10000000]])"
            ]
          },
          "metadata": {},
          "execution_count": 2
        }
      ]
    },
    {
      "cell_type": "markdown",
      "source": [
        "# (a) Time taken for a signal to arrive from each one of these satellites to the user:\n"
      ],
      "metadata": {
        "id": "lsinDkEejTIR"
      }
    },
    {
      "cell_type": "code",
      "source": [
        "# time taken = distance/speed\n",
        "\n",
        "t0 = np.linalg.norm(s0-user)/speed\n",
        "t1 = np.linalg.norm(s1-user)/speed\n",
        "t2 = np.linalg.norm(s2-user)/speed\n",
        "t3 = np.linalg.norm(s3-user)/speed\n",
        "t4 = np.linalg.norm(s4-user)/speed\n",
        "\n",
        "T = np.array([t0, t1, t2, t3, t4])\n",
        "T\n",
        "# In seconds"
      ],
      "metadata": {
        "colab": {
          "base_uri": "https://localhost:8080/",
          "height": 0
        },
        "id": "VoPzhkaoEYZz",
        "outputId": "4efc8e7f-4b6c-4052-a207-b2d0d5c7aa3f"
      },
      "execution_count": 3,
      "outputs": [
        {
          "output_type": "execute_result",
          "data": {
            "text/plain": [
              "array([ 0.57677292,  2.05502103,  4.28171828,  4.76053222, 57.73521937])"
            ]
          },
          "metadata": {},
          "execution_count": 3
        }
      ]
    },
    {
      "cell_type": "markdown",
      "source": [
        "# (b) Location of the user using the satellite locations and the times:"
      ],
      "metadata": {
        "id": "_nK4g4u5j29B"
      }
    },
    {
      "cell_type": "markdown",
      "source": [
        "For GPS Localization, \n",
        "\n",
        "$$ Ax = B $$\n",
        "\n",
        "$$ \\implies \\hat{x} = (A^T A)^{-1} A^T B $$\n",
        "\n",
        "where A and B are calculated as follows:"
      ],
      "metadata": {
        "id": "1dxnNHwjkrb5"
      }
    },
    {
      "cell_type": "code",
      "source": [
        "R = np.multiply(300000, T)\n",
        "R"
      ],
      "metadata": {
        "colab": {
          "base_uri": "https://localhost:8080/",
          "height": 0
        },
        "id": "_IBjWx3yJUc4",
        "outputId": "0df14ab2-c0dc-4c6d-ab4c-5ef9df35328b"
      },
      "execution_count": 4,
      "outputs": [
        {
          "output_type": "execute_result",
          "data": {
            "text/plain": [
              "array([  173031.87567613,   616506.30978117,  1284515.48453104,\n",
              "        1428159.66544361, 17320565.81148549])"
            ]
          },
          "metadata": {},
          "execution_count": 4
        }
      ]
    },
    {
      "cell_type": "code",
      "source": [
        "#A\n",
        "A0 = np.array([np.append(2*(s1-s0),2*(R[1]-R[0])), np.append(2*(s2-s1),2*(R[2]-R[1])), np.append(2*(s3-s2),2*(R[3]-R[2])), np.append(2*(s4-s3),2*(R[4]-R[3]))])\n",
        "A0"
      ],
      "metadata": {
        "colab": {
          "base_uri": "https://localhost:8080/",
          "height": 0
        },
        "id": "Q7aRfXnNKj_O",
        "outputId": "cce766cf-3291-4d4d-e561-819eb1c09227"
      },
      "execution_count": 5,
      "outputs": [
        {
          "output_type": "execute_result",
          "data": {
            "text/plain": [
              "array([[  -600000.        ,    400000.        ,  -1200000.        ,\n",
              "           886948.86821008],\n",
              "       [  1200000.        ,    800000.        ,  -1000000.        ,\n",
              "          1336018.34949972],\n",
              "       [  1200000.        ,  -1800000.        ,   4000000.        ,\n",
              "           287288.36182515],\n",
              "       [ 18000000.        , -19600000.        , -22000000.        ,\n",
              "         31784812.29208376]])"
            ]
          },
          "metadata": {},
          "execution_count": 5
        }
      ]
    },
    {
      "cell_type": "code",
      "source": [
        "#B\n",
        "B0 = np.array([(R[0]**2 - R[1]**2) - (np.linalg.norm(s0)**2 - np.linalg.norm(s1)**2), (R[1]**2 - R[2]**2) - (np.linalg.norm(s1)**2 - np.linalg.norm(s2)**2), (R[2]**2 - R[3]**2) - (np.linalg.norm(s2)**2 - np.linalg.norm(s3)**2), (R[3]**2 - R[4]**2) - (np.linalg.norm(s3)**2 - np.linalg.norm(s4)**2)])\n",
        "B0"
      ],
      "metadata": {
        "colab": {
          "base_uri": "https://localhost:8080/",
          "height": 0
        },
        "id": "0xt2tBiVLP5f",
        "outputId": "24c8daec-0d7f-47ba-c889-7dfd13d883be"
      },
      "execution_count": 6,
      "outputs": [
        {
          "output_type": "execute_result",
          "data": {
            "text/plain": [
              "array([-1.40e+08,  1.00e+08,  3.40e+08, -2.36e+09])"
            ]
          },
          "metadata": {},
          "execution_count": 6
        }
      ]
    },
    {
      "cell_type": "code",
      "source": [
        "# x_hat\n",
        "x = np.matmul(np.matmul(np.linalg.inv(np.matmul(A0.transpose(),A0)),A0.transpose()),B0)\n",
        "x\n",
        "# We got U = (100,100,100) as expected"
      ],
      "metadata": {
        "colab": {
          "base_uri": "https://localhost:8080/",
          "height": 0
        },
        "id": "h5liRgWCNppY",
        "outputId": "bed83ed4-8698-4bdf-af38-191419728df0"
      },
      "execution_count": 7,
      "outputs": [
        {
          "output_type": "execute_result",
          "data": {
            "text/plain": [
              "array([1.00000000e+02, 1.00000000e+02, 1.00000000e+02, 1.63396408e-10])"
            ]
          },
          "metadata": {},
          "execution_count": 7
        }
      ]
    },
    {
      "cell_type": "markdown",
      "source": [
        "# (c) Adding some random errors with the times:\n",
        "\n",
        "Even for a 1 second time difference, the error in position can be more than 300000 Km. Hence we will start with very less time error."
      ],
      "metadata": {
        "id": "sIJG-H-ZnMT9"
      }
    },
    {
      "cell_type": "code",
      "source": [
        "# Adding 0.0033% error in time\n",
        "T_random = np.array([t0+random.randrange(-19,19)/1000000, t1+random.randrange(-69,69)/1000000, t2+random.randrange(-143,143)/1000000, t3+random.randrange(-159,159)/1000000, t4+random.randrange(-1924,1924)/1000000])\n",
        "R = np.multiply(300000, T_random)\n",
        "A = np.array([np.append(2*(s1-s0),2*(R[1]-R[0])), np.append(2*(s2-s1),2*(R[2]-R[1])), np.append(2*(s3-s2),2*(R[3]-R[2])), np.append(2*(s4-s3),2*(R[4]-R[3]))])\n",
        "B = np.array([(R[0]**2 - R[1]**2) - (np.linalg.norm(s0)**2 - np.linalg.norm(s1)**2), (R[1]**2 - R[2]**2) - (np.linalg.norm(s1)**2 - np.linalg.norm(s2)**2), (R[2]**2 - R[3]**2) - (np.linalg.norm(s2)**2 - np.linalg.norm(s3)**2), (R[3]**2 - R[4]**2) - (np.linalg.norm(s3)**2 - np.linalg.norm(s4)**2)])\n",
        "x_hat = np.matmul(np.matmul(np.linalg.inv(np.matmul(A.transpose(),A)),A.transpose()),B)\n",
        "print(\"User Position:\", x_hat) # first 3 elements are its coordinates\n",
        "print(\"Distance from actual position of user:\", np.linalg.norm(x_hat - np.array([100,100,100,x_hat[3]])))\n",
        "# We see 100s of Kms of position error"
      ],
      "metadata": {
        "colab": {
          "base_uri": "https://localhost:8080/",
          "height": 0
        },
        "id": "k3BqDQhXnpGg",
        "outputId": "a937300a-eec1-4531-beed-e59fb0a1ad14"
      },
      "execution_count": 8,
      "outputs": [
        {
          "output_type": "stream",
          "name": "stdout",
          "text": [
            "User Position: [ 211.74052593 -379.87752919 -135.40871445  -48.3132975 ]\n",
            "Distance from actual position of user: 546.0637792406587\n"
          ]
        }
      ]
    },
    {
      "cell_type": "markdown",
      "source": [
        "# (d) Increasing Time errors:\n",
        "\n",
        "Taking time errors 0.0033%, 0.033%, 0.1%, 0.33%, 1% and taking average of User Position and Error in Position to plot a curve for the same:"
      ],
      "metadata": {
        "id": "8UbmcV5dp9oP"
      }
    },
    {
      "cell_type": "code",
      "source": [
        "# Error in Time = 0.0033%\n",
        "sum = np.array([0,0,0,0])\n",
        "error1 = 0\n",
        "for i in range(0,10):\n",
        "  T_random = np.array([t0+random.randrange(-19,19)/1000000, t1+random.randrange(-69,69)/1000000, t2+random.randrange(-143,143)/1000000, t3+random.randrange(-159,159)/1000000, t4+random.randrange(-1924,1924)/1000000])\n",
        "  R = np.multiply(300000, T_random)\n",
        "  A = np.array([np.append(2*(s1-s0),2*(R[1]-R[0])), np.append(2*(s2-s1),2*(R[2]-R[1])), np.append(2*(s3-s2),2*(R[3]-R[2])), np.append(2*(s4-s3),2*(R[4]-R[3]))])\n",
        "  B = np.array([(R[0]**2 - R[1]**2) - (np.linalg.norm(s0)**2 - np.linalg.norm(s1)**2), (R[1]**2 - R[2]**2) - (np.linalg.norm(s1)**2 - np.linalg.norm(s2)**2), (R[2]**2 - R[3]**2) - (np.linalg.norm(s2)**2 - np.linalg.norm(s3)**2), (R[3]**2 - R[4]**2) - (np.linalg.norm(s3)**2 - np.linalg.norm(s4)**2)])\n",
        "  x_hat = np.matmul(np.matmul(np.linalg.inv(np.matmul(A.transpose(),A)),A.transpose()),B)\n",
        "  error_x = np.linalg.norm(x_hat - np.array([100,100,100,x_hat[3]]))\n",
        "  error1 = error1 + error_x\n",
        "  sum = sum + x_hat\n",
        "\n",
        "print(\"Average User Position:\", sum/10) # first 3 elements are its coordinates\n",
        "print(\"Average Error in Position:\", error1/10)"
      ],
      "metadata": {
        "colab": {
          "base_uri": "https://localhost:8080/",
          "height": 0
        },
        "id": "tar5HDXcVrqq",
        "outputId": "d7ed6f56-dbc0-42b3-92d6-8c05c3ffe0d2"
      },
      "execution_count": 9,
      "outputs": [
        {
          "output_type": "stream",
          "name": "stdout",
          "text": [
            "Average User Position: [ 37.54565295 279.62258505 199.42628234  18.362093  ]\n",
            "Average Error in Position: 280.7391792353266\n"
          ]
        }
      ]
    },
    {
      "cell_type": "code",
      "source": [
        "# Error in Time = 0.033%\n",
        "sum = np.array([0,0,0,0])\n",
        "error2 = 0\n",
        "for i in range(0,10):\n",
        "  T_random = np.array([t0+random.randrange(-19,19)/100000, t1+random.randrange(-69,69)/100000, t2+random.randrange(-143,143)/100000, t3+random.randrange(-159,159)/100000, t4+random.randrange(-1924,1924)/100000])\n",
        "  R = np.multiply(300000, T_random)\n",
        "  A = np.array([np.append(2*(s1-s0),2*(R[1]-R[0])), np.append(2*(s2-s1),2*(R[2]-R[1])), np.append(2*(s3-s2),2*(R[3]-R[2])), np.append(2*(s4-s3),2*(R[4]-R[3]))])\n",
        "  B = np.array([(R[0]**2 - R[1]**2) - (np.linalg.norm(s0)**2 - np.linalg.norm(s1)**2), (R[1]**2 - R[2]**2) - (np.linalg.norm(s1)**2 - np.linalg.norm(s2)**2), (R[2]**2 - R[3]**2) - (np.linalg.norm(s2)**2 - np.linalg.norm(s3)**2), (R[3]**2 - R[4]**2) - (np.linalg.norm(s3)**2 - np.linalg.norm(s4)**2)])\n",
        "  x_hat = np.matmul(np.matmul(np.linalg.inv(np.matmul(A.transpose(),A)),A.transpose()),B)\n",
        "  error_x = np.linalg.norm(x_hat - np.array([100,100,100,x_hat[3]]))\n",
        "  error2 = error2 + error_x\n",
        "  sum = sum + x_hat\n",
        "\n",
        "print(\"Average User Position:\", sum/10) # first 3 elements are its coordinates\n",
        "print(\"Average Error in Position:\", error2/10)"
      ],
      "metadata": {
        "colab": {
          "base_uri": "https://localhost:8080/",
          "height": 0
        },
        "id": "0d75QnFBZFn3",
        "outputId": "d567c6bc-76ce-48d6-cd51-e98ba389c807"
      },
      "execution_count": 10,
      "outputs": [
        {
          "output_type": "stream",
          "name": "stdout",
          "text": [
            "Average User Position: [ -94.19857026 1085.73769073  535.24871053   -2.72802695]\n",
            "Average Error in Position: 3533.691308802497\n"
          ]
        }
      ]
    },
    {
      "cell_type": "code",
      "source": [
        "# Error in Time = 0.1%\n",
        "sum = np.array([0,0,0,0])\n",
        "error3 = 0\n",
        "for i in range(0,10):\n",
        "  T_random = np.array([t0+random.randrange(-58,58)/100000, t1+random.randrange(-206,206)/100000, t2+random.randrange(-428,428)/100000, t3+random.randrange(-476,476)/100000, t4+random.randrange(-5774,5774)/100000])\n",
        "  R = np.multiply(300000, T_random)\n",
        "  A = np.array([np.append(2*(s1-s0),2*(R[1]-R[0])), np.append(2*(s2-s1),2*(R[2]-R[1])), np.append(2*(s3-s2),2*(R[3]-R[2])), np.append(2*(s4-s3),2*(R[4]-R[3]))])\n",
        "  B = np.array([(R[0]**2 - R[1]**2) - (np.linalg.norm(s0)**2 - np.linalg.norm(s1)**2), (R[1]**2 - R[2]**2) - (np.linalg.norm(s1)**2 - np.linalg.norm(s2)**2), (R[2]**2 - R[3]**2) - (np.linalg.norm(s2)**2 - np.linalg.norm(s3)**2), (R[3]**2 - R[4]**2) - (np.linalg.norm(s3)**2 - np.linalg.norm(s4)**2)])\n",
        "  x_hat = np.matmul(np.matmul(np.linalg.inv(np.matmul(A.transpose(),A)),A.transpose()),B)\n",
        "  error_x = np.linalg.norm(x_hat - np.array([100,100,100,x_hat[3]]))\n",
        "  error3 = error3 + error_x\n",
        "  sum = sum + x_hat\n",
        "\n",
        "print(\"Average User Position:\", sum/10) # first 3 elements are its coordinates\n",
        "print(\"Average Error in Position:\", error3/10)"
      ],
      "metadata": {
        "colab": {
          "base_uri": "https://localhost:8080/",
          "height": 0
        },
        "id": "OnBuScDjgcUO",
        "outputId": "1b5b7e16-f3c2-42b4-badd-8c484cac4eac"
      },
      "execution_count": 11,
      "outputs": [
        {
          "output_type": "stream",
          "name": "stdout",
          "text": [
            "Average User Position: [  829.02603312 -1495.01390612  -938.54607597  -120.34463614]\n",
            "Average Error in Position: 10377.422167681067\n"
          ]
        }
      ]
    },
    {
      "cell_type": "code",
      "source": [
        "# Error in Time = 0.33%\n",
        "sum = np.array([0,0,0,0])\n",
        "error4 = 0\n",
        "for i in range(0,10):\n",
        "  T_random = np.array([t0+random.randrange(-19,19)/10000, t1+random.randrange(-69,69)/10000, t2+random.randrange(-143,143)/10000, t3+random.randrange(-159,159)/10000, t4+random.randrange(-1924,1924)/10000])\n",
        "  R = np.multiply(300000, T_random)\n",
        "  A = np.array([np.append(2*(s1-s0),2*(R[1]-R[0])), np.append(2*(s2-s1),2*(R[2]-R[1])), np.append(2*(s3-s2),2*(R[3]-R[2])), np.append(2*(s4-s3),2*(R[4]-R[3]))])\n",
        "  B = np.array([(R[0]**2 - R[1]**2) - (np.linalg.norm(s0)**2 - np.linalg.norm(s1)**2), (R[1]**2 - R[2]**2) - (np.linalg.norm(s1)**2 - np.linalg.norm(s2)**2), (R[2]**2 - R[3]**2) - (np.linalg.norm(s2)**2 - np.linalg.norm(s3)**2), (R[3]**2 - R[4]**2) - (np.linalg.norm(s3)**2 - np.linalg.norm(s4)**2)])\n",
        "  x_hat = np.matmul(np.matmul(np.linalg.inv(np.matmul(A.transpose(),A)),A.transpose()),B)\n",
        "  error_x = np.linalg.norm(x_hat - np.array([100,100,100,x_hat[3]]))\n",
        "  error4 = error4 + error_x\n",
        "  sum = sum + x_hat\n",
        "\n",
        "print(\"Average User Position:\", sum/10) # first 3 elements are its coordinates\n",
        "print(\"Average Error in Position:\", error4/10)"
      ],
      "metadata": {
        "colab": {
          "base_uri": "https://localhost:8080/",
          "height": 0
        },
        "id": "2qyfOSxndrqd",
        "outputId": "758d1c77-fa1b-4403-f4a4-3a5be6b5bbe0"
      },
      "execution_count": 12,
      "outputs": [
        {
          "output_type": "stream",
          "name": "stdout",
          "text": [
            "Average User Position: [ 1820.36985149 -5385.12957888 -3771.83411443 -1414.00950749]\n",
            "Average Error in Position: 30447.46013617243\n"
          ]
        }
      ]
    },
    {
      "cell_type": "code",
      "source": [
        "# Error in Time = 1%\n",
        "sum = np.array([0,0,0,0])\n",
        "error5 = 0\n",
        "for i in range(0,10):\n",
        "  T_random = np.array([t0+random.randrange(-58,58)/10000, t1+random.randrange(-206,206)/10000, t2+random.randrange(-428,428)/10000, t3+random.randrange(-476,476)/10000, t4+random.randrange(-5774,5774)/10000])\n",
        "  R = np.multiply(300000, T_random)\n",
        "  A = np.array([np.append(2*(s1-s0),2*(R[1]-R[0])), np.append(2*(s2-s1),2*(R[2]-R[1])), np.append(2*(s3-s2),2*(R[3]-R[2])), np.append(2*(s4-s3),2*(R[4]-R[3]))])\n",
        "  B = np.array([(R[0]**2 - R[1]**2) - (np.linalg.norm(s0)**2 - np.linalg.norm(s1)**2), (R[1]**2 - R[2]**2) - (np.linalg.norm(s1)**2 - np.linalg.norm(s2)**2), (R[2]**2 - R[3]**2) - (np.linalg.norm(s2)**2 - np.linalg.norm(s3)**2), (R[3]**2 - R[4]**2) - (np.linalg.norm(s3)**2 - np.linalg.norm(s4)**2)])\n",
        "  x_hat = np.matmul(np.matmul(np.linalg.inv(np.matmul(A.transpose(),A)),A.transpose()),B)\n",
        "  error_x = np.linalg.norm(x_hat - np.array([100,100,100,x_hat[3]]))\n",
        "  error5 = error5 + error_x\n",
        "  sum = sum + x_hat\n",
        "\n",
        "print(\"Average User Position:\", sum/10) # first 3 elements are its coordinates\n",
        "print(\"Average Error in Position:\", error5/10)"
      ],
      "metadata": {
        "colab": {
          "base_uri": "https://localhost:8080/",
          "height": 0
        },
        "id": "VJ2EbmJNhhCh",
        "outputId": "0089eeda-44a8-4049-b66b-5a447b3a5773"
      },
      "execution_count": 13,
      "outputs": [
        {
          "output_type": "stream",
          "name": "stdout",
          "text": [
            "Average User Position: [ 19925.29748075 -69802.33476962 -37691.66555276  -6125.96777612]\n",
            "Average Error in Position: 135292.75167048993\n"
          ]
        }
      ]
    },
    {
      "cell_type": "markdown",
      "source": [
        "Graph: **Amount of timing errors** vs **Localization error**:"
      ],
      "metadata": {
        "id": "q-jhU6d6r5d1"
      }
    },
    {
      "cell_type": "code",
      "source": [
        "time_error = [0.0033,0.033,0.1,0.33,1]\n",
        "localization_error = [error1/10, error2/10, error3/10, error4/10, error5/10]\n",
        "\n",
        "plt.xlabel('Time Error in %')\n",
        "plt.ylabel('Localization Error in Km')\n",
        "plt.scatter(time_error, localization_error), plt.plot(time_error,localization_error)"
      ],
      "metadata": {
        "colab": {
          "base_uri": "https://localhost:8080/",
          "height": 315
        },
        "id": "qT3P4CkBexe0",
        "outputId": "1505f312-5185-430e-d107-d2d1c457aa70"
      },
      "execution_count": 14,
      "outputs": [
        {
          "output_type": "execute_result",
          "data": {
            "text/plain": [
              "(<matplotlib.collections.PathCollection at 0x7fee78c71b10>,\n",
              " [<matplotlib.lines.Line2D at 0x7fee78c71f90>])"
            ]
          },
          "metadata": {},
          "execution_count": 14
        },
        {
          "output_type": "display_data",
          "data": {
            "text/plain": [
              "<Figure size 432x288 with 1 Axes>"
            ],
            "image/png": "[encoded data removed]"
          },
          "metadata": {
            "needs_background": "light"
          }
        }
      ]
    }
  ]
}